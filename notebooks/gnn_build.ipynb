{
 "cells": [
  {
   "cell_type": "code",
   "execution_count": 1,
   "id": "6ffb6ac6-c05e-40a2-816e-5998bbeef687",
   "metadata": {
    "tags": []
   },
   "outputs": [
    {
     "name": "stdout",
     "output_type": "stream",
     "text": [
      "\u001b[93m[mitsuba] Warning: Couldn't import the ipywidgets package. Installing this package is required for the system to properly log messages and print in Jupyter notebooks!\n"
     ]
    }
   ],
   "source": [
    "import sys\n",
    "import mitsuba as mi\n",
    "import drjit as dr\n",
    "import numpy as np\n",
    "\n",
    "mi.set_variant('scalar_rgb')"
   ]
  },
  {
   "cell_type": "code",
   "execution_count": 33,
   "id": "4d3543bc-05e2-48b8-8e52-7ee86277c881",
   "metadata": {
    "tags": []
   },
   "outputs": [],
   "source": [
    "gnn_data_file = '../build-gnn/gnn_file.data'"
   ]
  },
  {
   "cell_type": "code",
   "execution_count": 63,
   "id": "ee30f545-3b15-4831-a0e2-1e219d4299b1",
   "metadata": {
    "tags": []
   },
   "outputs": [],
   "source": [
    "class Graph():\n",
    "    \n",
    "    def __init__(self, pos, origin, luminance, nodes=[]):\n",
    "        \n",
    "        self._pos = pos\n",
    "        self._origin = origin\n",
    "        self._luminance = luminance\n",
    "        self._nodes = nodes\n",
    "        self._connections = []\n",
    "        \n",
    "    @property\n",
    "    def pos(self):\n",
    "        return self._pos\n",
    "        \n",
    "    def add_node(self, node):\n",
    "        \n",
    "        self._nodes.append(node)\n",
    "        \n",
    "    def add_connection(self, node1, node2, distance):\n",
    "        \"\"\"\n",
    "        Add connection from node1 to node2 with distance\n",
    "        \"\"\"\n",
    "        \n",
    "        from_index = self._nodes.index(node1)\n",
    "        to_index = self._nodes.index(node2)\n",
    "        \n",
    "        if from_index != -1 and to_index != -1:\n",
    "            self._connections.append((from_index, to_index, distance))\n",
    "    \n",
    "    def __str__(self):\n",
    "        return f'Graph: [pixel: {self.pos}, origin: {self._origin}, luminance: {self._luminance},' \\\n",
    "            f'nodes: {self._nodes}, connections: {self._connections}]'\n",
    "    \n",
    "class Node():\n",
    "    \n",
    "    def __init__(self, p, n, throughput):\n",
    "        self._p = p\n",
    "        self._n = n\n",
    "        self._throughput = throughput\n",
    "       \n",
    "    @property\n",
    "    def p(self):\n",
    "        return self._p\n",
    "    \n",
    "    @property\n",
    "    def n(self):\n",
    "        return self._n\n",
    "    \n",
    "    @property\n",
    "    def throughput(self):\n",
    "        return self._throughput\n",
    "    \n",
    "    @property\n",
    "    def properties(self):\n",
    "        return self._p + self._n + self._throughput\n",
    "    \n",
    "    def __str__(self):\n",
    "        return f'[p: {self.p}, n: {self.n}, throughput: {self.throughput}]'\n",
    "    \n",
    "    def __repr__(self):\n",
    "        return self.__str__()"
   ]
  },
  {
   "cell_type": "code",
   "execution_count": 69,
   "id": "f999e149-9f34-42e6-ad04-981e9bcee589",
   "metadata": {
    "tags": []
   },
   "outputs": [],
   "source": [
    "def extract_light_grath(line):\n",
    "    \n",
    "    data = line.replace('\\n', '').split(';')\n",
    "    \n",
    "    # get origin\n",
    "    sample_pos = list(map(int, map(float, data[0].split(','))))\n",
    "    \n",
    "    adjusted_pos = list(map(float, data[1].split(',')))\n",
    "    \n",
    "    origin = list(map(float, data[2].split(',')))\n",
    "    \n",
    "    # get luminance\n",
    "    y = list(map(float, data[-1].split(',')))\n",
    "    \n",
    "    graph = Graph(sample_pos, origin, y)\n",
    "    \n",
    "    # default origin node\n",
    "    prev_node = Node(origin, [0, 0, 0], [1, 1, 1])\n",
    "    \n",
    "    graph.add_node(prev_node)\n",
    "    \n",
    "    del data[0:3]\n",
    "    del data[-1]\n",
    "                  \n",
    "    for n_i, node in enumerate(data):\n",
    "        node_data = node.split('::')\n",
    "        \n",
    "        t = float(node_data[0])\n",
    "        p = list(map(float, node_data[1].split(',')))\n",
    "        n = list(map(float, node_data[2].split(',')))\n",
    "        throughput = list(map(float, node_data[3].split(',')))\n",
    "        valid = bool(node_data[4])\n",
    "        \n",
    "        if valid:\n",
    "            node = Node(p, n, throughput)\n",
    "            graph.add_node(node)\n",
    "            graph.add_connection(prev_node, node, t)\n",
    "\n",
    "            prev_node = node\n",
    "            \n",
    "    return graph\n",
    "\n",
    "\n",
    "def get_graphs(filename, verbose=True):\n",
    "    \n",
    "    graphs = []\n",
    "        \n",
    "    with open(filename, 'r') as f:\n",
    "\n",
    "        lines = f.readlines()\n",
    "        n_lines = len(lines)\n",
    "        for idx, line in enumerate(lines):\n",
    "            graphs.append(extract_light_grath(line))\n",
    "\n",
    "            if verbose:\n",
    "                print(f'Extract line n°{idx} of {nlines}', end='\\r')"
   ]
  },
  {
   "cell_type": "code",
   "execution_count": 70,
   "id": "c77705b8-4c37-4b1f-8263-a3b7d902597e",
   "metadata": {
    "tags": []
   },
   "outputs": [
    {
     "name": "stdout",
     "output_type": "stream",
     "text": [
      "Extract line n°12445 of 655360\r"
     ]
    },
    {
     "ename": "KeyboardInterrupt",
     "evalue": "",
     "output_type": "error",
     "traceback": [
      "\u001b[0;31m---------------------------------------------------------------------------\u001b[0m",
      "\u001b[0;31mKeyboardInterrupt\u001b[0m                         Traceback (most recent call last)",
      "Cell \u001b[0;32mIn[70], line 1\u001b[0m\n\u001b[0;32m----> 1\u001b[0m graphs \u001b[38;5;241m=\u001b[39m \u001b[43mget_graphs\u001b[49m\u001b[43m(\u001b[49m\u001b[43mgnn_data_file\u001b[49m\u001b[43m)\u001b[49m\n",
      "Cell \u001b[0;32mIn[69], line 53\u001b[0m, in \u001b[0;36mget_graphs\u001b[0;34m(filename, verbose)\u001b[0m\n\u001b[1;32m     51\u001b[0m n_lines \u001b[38;5;241m=\u001b[39m \u001b[38;5;28mlen\u001b[39m(lines)\n\u001b[1;32m     52\u001b[0m \u001b[38;5;28;01mfor\u001b[39;00m idx, line \u001b[38;5;129;01min\u001b[39;00m \u001b[38;5;28menumerate\u001b[39m(lines):\n\u001b[0;32m---> 53\u001b[0m     graphs\u001b[38;5;241m.\u001b[39mappend(\u001b[43mextract_light_grath\u001b[49m\u001b[43m(\u001b[49m\u001b[43mline\u001b[49m\u001b[43m)\u001b[49m)\n\u001b[1;32m     55\u001b[0m     \u001b[38;5;28;01mif\u001b[39;00m verbose:\n\u001b[1;32m     56\u001b[0m         \u001b[38;5;28mprint\u001b[39m(\u001b[38;5;124mf\u001b[39m\u001b[38;5;124m'\u001b[39m\u001b[38;5;124mExtract line n°\u001b[39m\u001b[38;5;132;01m{\u001b[39;00midx\u001b[38;5;132;01m}\u001b[39;00m\u001b[38;5;124m of \u001b[39m\u001b[38;5;132;01m{\u001b[39;00mnlines\u001b[38;5;132;01m}\u001b[39;00m\u001b[38;5;124m'\u001b[39m, end\u001b[38;5;241m=\u001b[39m\u001b[38;5;124m'\u001b[39m\u001b[38;5;130;01m\\r\u001b[39;00m\u001b[38;5;124m'\u001b[39m)\n",
      "Cell \u001b[0;32mIn[69], line 37\u001b[0m, in \u001b[0;36mextract_light_grath\u001b[0;34m(line)\u001b[0m\n\u001b[1;32m     35\u001b[0m         node \u001b[38;5;241m=\u001b[39m Node(p, n, throughput)\n\u001b[1;32m     36\u001b[0m         graph\u001b[38;5;241m.\u001b[39madd_node(node)\n\u001b[0;32m---> 37\u001b[0m         \u001b[43mgraph\u001b[49m\u001b[38;5;241;43m.\u001b[39;49m\u001b[43madd_connection\u001b[49m\u001b[43m(\u001b[49m\u001b[43mprev_node\u001b[49m\u001b[43m,\u001b[49m\u001b[43m \u001b[49m\u001b[43mnode\u001b[49m\u001b[43m,\u001b[49m\u001b[43m \u001b[49m\u001b[43mt\u001b[49m\u001b[43m)\u001b[49m\n\u001b[1;32m     39\u001b[0m         prev_node \u001b[38;5;241m=\u001b[39m node\n\u001b[1;32m     41\u001b[0m \u001b[38;5;28;01mreturn\u001b[39;00m graph\n",
      "Cell \u001b[0;32mIn[63], line 25\u001b[0m, in \u001b[0;36mGraph.add_connection\u001b[0;34m(self, node1, node2, distance)\u001b[0m\n\u001b[1;32m     20\u001b[0m \u001b[38;5;250m\u001b[39m\u001b[38;5;124;03m\"\"\"\u001b[39;00m\n\u001b[1;32m     21\u001b[0m \u001b[38;5;124;03mAdd connection from node1 to node2 with distance\u001b[39;00m\n\u001b[1;32m     22\u001b[0m \u001b[38;5;124;03m\"\"\"\u001b[39;00m\n\u001b[1;32m     24\u001b[0m from_index \u001b[38;5;241m=\u001b[39m \u001b[38;5;28mself\u001b[39m\u001b[38;5;241m.\u001b[39m_nodes\u001b[38;5;241m.\u001b[39mindex(node1)\n\u001b[0;32m---> 25\u001b[0m to_index \u001b[38;5;241m=\u001b[39m \u001b[38;5;28;43mself\u001b[39;49m\u001b[38;5;241;43m.\u001b[39;49m\u001b[43m_nodes\u001b[49m\u001b[38;5;241;43m.\u001b[39;49m\u001b[43mindex\u001b[49m\u001b[43m(\u001b[49m\u001b[43mnode2\u001b[49m\u001b[43m)\u001b[49m\n\u001b[1;32m     27\u001b[0m \u001b[38;5;28;01mif\u001b[39;00m from_index \u001b[38;5;241m!=\u001b[39m \u001b[38;5;241m-\u001b[39m\u001b[38;5;241m1\u001b[39m \u001b[38;5;129;01mand\u001b[39;00m to_index \u001b[38;5;241m!=\u001b[39m \u001b[38;5;241m-\u001b[39m\u001b[38;5;241m1\u001b[39m:\n\u001b[1;32m     28\u001b[0m     \u001b[38;5;28mself\u001b[39m\u001b[38;5;241m.\u001b[39m_connections\u001b[38;5;241m.\u001b[39mappend((from_index, to_index, distance))\n",
      "\u001b[0;31mKeyboardInterrupt\u001b[0m: "
     ]
    }
   ],
   "source": [
    "graphs = get_graphs(gnn_data_file)"
   ]
  }
 ],
 "metadata": {
  "kernelspec": {
   "display_name": "mitsuba-venv",
   "language": "python",
   "name": "mitsuba-venv"
  },
  "language_info": {
   "codemirror_mode": {
    "name": "ipython",
    "version": 3
   },
   "file_extension": ".py",
   "mimetype": "text/x-python",
   "name": "python",
   "nbconvert_exporter": "python",
   "pygments_lexer": "ipython3",
   "version": "3.9.0"
  }
 },
 "nbformat": 4,
 "nbformat_minor": 5
}
