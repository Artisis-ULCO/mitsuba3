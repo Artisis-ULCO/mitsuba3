{
 "cells": [
  {
   "cell_type": "code",
   "execution_count": 1,
   "id": "6ffb6ac6-c05e-40a2-816e-5998bbeef687",
   "metadata": {
    "tags": []
   },
   "outputs": [
    {
     "name": "stdout",
     "output_type": "stream",
     "text": [
      "\u001b[93m[mitsuba] Warning: Couldn't import the ipywidgets package. Installing this package is required for the system to properly log messages and print in Jupyter notebooks!\n"
     ]
    }
   ],
   "source": [
    "import sys\n",
    "import mitsuba as mi\n",
    "import drjit as dr\n",
    "import numpy as np\n",
    "\n",
    "mi.set_variant('scalar_rgb')"
   ]
  },
  {
   "cell_type": "code",
   "execution_count": 2,
   "id": "4d3543bc-05e2-48b8-8e52-7ee86277c881",
   "metadata": {
    "tags": []
   },
   "outputs": [],
   "source": [
    "gnn_data_file = '../build-gnn/gnn_file.data'\n",
    "scene_file = 'scenes/cornell-box/scene.xml'"
   ]
  },
  {
   "cell_type": "code",
   "execution_count": 3,
   "id": "ee30f545-3b15-4831-a0e2-1e219d4299b1",
   "metadata": {
    "tags": []
   },
   "outputs": [],
   "source": [
    "class Node():\n",
    "    \n",
    "    def __init__(self, p: list[float, float, float], n, throughput):\n",
    "        self._p = p\n",
    "        self._n = n\n",
    "        self._throughput = throughput\n",
    "       \n",
    "    @property\n",
    "    def p(self):\n",
    "        return self._p\n",
    "    \n",
    "    @property\n",
    "    def n(self):\n",
    "        return self._n\n",
    "    \n",
    "    @property\n",
    "    def throughput(self):\n",
    "        return self._throughput\n",
    "    \n",
    "    @property\n",
    "    def properties(self):\n",
    "        return self._p + self._n + self._throughput\n",
    "    \n",
    "    def __str__(self):\n",
    "        return f'[p: {self.p}, n: {self.n}, throughput: {self.throughput}]'\n",
    "    \n",
    "    def __repr__(self):\n",
    "        return self.__str__()"
   ]
  },
  {
   "cell_type": "code",
   "execution_count": 4,
   "id": "8f048a05-317f-416e-bd0a-0eaee2761ef0",
   "metadata": {
    "tags": []
   },
   "outputs": [],
   "source": [
    "class Graph():\n",
    "    \n",
    "    def __init__(self, origin, luminance):\n",
    "        \n",
    "        self._origin = origin\n",
    "        self._luminance = luminance\n",
    "        self._nodes = []\n",
    "        self._connections = []\n",
    "    \n",
    "    @property\n",
    "    def origin(self):\n",
    "        return self._origin\n",
    "    \n",
    "    @property\n",
    "    def luminance(self):\n",
    "        return self._luminance\n",
    "        \n",
    "    @property\n",
    "    def nodes(self):\n",
    "        return self._nodes\n",
    "    \n",
    "    @property\n",
    "    def connections(self):\n",
    "        return self._connections\n",
    "    \n",
    "    @property\n",
    "    def data(self):\n",
    "        return [ n.properties for n in self._nodes ], self._connections\n",
    "    \n",
    "    def get_node(self, index):\n",
    "        \n",
    "        if index < len(self._nodes):\n",
    "            return self._nodes[index]\n",
    "        return None\n",
    "    \n",
    "    def get_connections(self, index):\n",
    "    \n",
    "        if index < len(self._nodes):\n",
    "            \n",
    "            return list(filter(lambda n1, n2, t: n1 == index or n2 == index, \\\n",
    "                self._connections))\n",
    "            \n",
    "        return None\n",
    "        \n",
    "    def add_node(self, node):\n",
    "        \n",
    "        if node not in self._nodes:\n",
    "            self._nodes.append(node)\n",
    "            return True\n",
    "        return False\n",
    "        \n",
    "    def add_connection(self, node1, node2, distance):\n",
    "        \"\"\"\n",
    "        Add connection from node1 to node2 with distance\n",
    "        \"\"\"\n",
    "        \n",
    "        from_index = self._nodes.index(node1)\n",
    "        to_index = self._nodes.index(node2)\n",
    "        \n",
    "        if from_index != -1 and to_index != -1:\n",
    "            connection = from_index, to_index, distance\n",
    "            \n",
    "            if connection not in self._connections:\n",
    "                self._connections.append((from_index, to_index, distance))\n",
    "                \n",
    "                return True\n",
    "        return False\n",
    "            \n",
    "    \n",
    "    def __str__(self):\n",
    "        return f'Graph: [origin: {self._origin}, luminance: {self._luminance},' \\\n",
    "            f'nodes: {self._nodes}, connections: {self._connections}]'"
   ]
  },
  {
   "cell_type": "code",
   "execution_count": 21,
   "id": "a8f775c7-0a06-496d-928e-99aba54bf1e5",
   "metadata": {
    "tags": []
   },
   "outputs": [],
   "source": [
    "import mitsuba as mi\n",
    "import math\n",
    "import random\n",
    "\n",
    "class DictGraph():\n",
    "    \n",
    "    def __init__(self, scene_file, reference=None, variant='scalar_rgb'):\n",
    "        \n",
    "        self._scene_file = scene_file\n",
    "        self._reference_image = reference\n",
    "        self._mi_variant = variant\n",
    "        # track the number of built connection (and hence duplicate nodes)\n",
    "        self._n_built_connections = 0\n",
    "        self._n_built_nodes = 0\n",
    "        self._graphs = {}\n",
    "        \n",
    "    @property\n",
    "    def n_graphs(self):\n",
    "        return sum([ len(v) for _, v in self._graphs.items() ])\n",
    "    \n",
    "    @property\n",
    "    def n_nodes(self):\n",
    "        return sum([ sum( [ len(g.nodes) for g in v]) \\\n",
    "            for _, v in self._graphs.items() ])\n",
    "    \n",
    "    @property\n",
    "    def n_connections(self):\n",
    "        return sum([ sum( [ len(g.connections) for g in v]) \\\n",
    "            for _, v in self._graphs.items() ])\n",
    "    \n",
    "    def keys(self):\n",
    "        return self._graphs.keys()\n",
    "    \n",
    "    def items(self):\n",
    "        return self._graphs.items()\n",
    "    \n",
    "    def get_graphs(self, pos):\n",
    "        return self._graphs[pos]\n",
    "    \n",
    "    def add_graph(self, pos, graph):\n",
    "        \n",
    "        pos = tuple(pos)\n",
    "        if tuple(pos) not in self._graphs:\n",
    "            self._graphs[pos] = []\n",
    "            \n",
    "        self._graphs[pos].append(graph)\n",
    "    \n",
    "    # TODO: do the same function but with convolution\n",
    "    def build_connections(self, n_graphs, n_nodes_per_graphs, n_neighbors, verbose=False): \n",
    "        \n",
    "        for idx, (key, graphs) in enumerate(self._graphs.items()):\n",
    "            \n",
    "            self._build_pos_connections(key, n_graphs, n_nodes_per_graphs, n_neighbors)\n",
    "            print(f'Connections build {(idx + 1) / len(self.keys()) * 100.:.2f}%', end='\\r')\n",
    "            \n",
    "    def _build_pos_connections(self, pos, n_graphs, n_nodes_per_graphs, n_neighbors):\n",
    "        \"\"\"\n",
    "        For each position from current film, new connections are tempted to be build:\n",
    "        - n_graphs: number of graphs to update\n",
    "        - n_nodes_per_graphs: expected number of nodes to get new connections (chosen randomly)\n",
    "        - n_neighbors: number of neighbors graph to take in account \n",
    "        \"\"\"\n",
    "        \n",
    "        mi.set_variant(self._mi_variant)\n",
    "        scene = mi.load_file(self._scene_file)\n",
    "        \n",
    "        pos = tuple(pos)\n",
    "        if pos in self._graphs:\n",
    "            \n",
    "            pos_graphs = self._graphs[pos]\n",
    "            \n",
    "            # for each graph, try to create new connection\n",
    "            for graph in random.choices(pos_graphs, k=n_graphs):\n",
    "                \n",
    "                selected_nodes = random.choices(graph.nodes, k=n_nodes_per_graphs)\n",
    "                potential_neighbors = [ g for g in pos_graphs if g is not graph ]\n",
    "                \n",
    "                # check if there is at least 1 potential neighbor\n",
    "                if len(potential_neighbors) > 0:\n",
    "                    neighbors_graphs = random.choices([ g for g in pos_graphs if g is not graph], \\\n",
    "                                            k=n_neighbors)\n",
    "\n",
    "                    # try now to create connection\n",
    "                    for node in selected_nodes:\n",
    "\n",
    "                        # select randomly one neighbor graph\n",
    "                        selected_graph = random.choice(neighbors_graphs)\n",
    "\n",
    "                        # randomly select current neighbor graph node for the connection\n",
    "                        neighbor_selected_node = random.choice(selected_graph.nodes)\n",
    "\n",
    "                        # create Ray from current node\n",
    "                        o, p = mi.Vector3f(node.p), mi.Vector3f(neighbor_selected_node.p)\n",
    "\n",
    "                        # get direction and create new ray\n",
    "                        d = p - o\n",
    "                        normalized_d = d / np.sqrt(np.sum(d ** 2))\n",
    "                        ray = mi.Ray3f(o, normalized_d)\n",
    "\n",
    "                        # try intersect using this ray\n",
    "                        si = scene.ray_intersect(ray)\n",
    "                        expected_dist = math.dist(p, o)\n",
    "\n",
    "                        # if connections exists, then the node is also attached to the graph\n",
    "                        # new connection is created between `node` and \n",
    "                        #  `neighbor_selected_node` with distance data\n",
    "                        if si.is_valid() and si.t > math.dist(p, o):\n",
    "\n",
    "                            # TODO: check how to update throughput or necessary to remove it\n",
    "                            # => depends on BRDF and hence directions...\n",
    "\n",
    "                            # add connection into current graph\n",
    "                            self._n_built_nodes += graph.add_node(neighbor_selected_node)\n",
    "                            self._n_built_connections += graph.add_connection(node, neighbor_selected_node, si.t)\n",
    "\n",
    "                            # add connection into current graph\n",
    "                            self._n_built_nodes += selected_graph.add_node(node)\n",
    "                            self._n_built_connections += selected_graph.add_connection(neighbor_selected_node, node, si.t)\n",
    "\n",
    "            return True\n",
    "            \n",
    "        return False\n",
    "        \n",
    "    @staticmethod\n",
    "    def _extract_light_grath(line):\n",
    "\n",
    "        data = line.replace('\\n', '').split(';')\n",
    "\n",
    "        # get origin\n",
    "        sample_pos = list(map(int, map(float, data[0].split(','))))\n",
    "        adjusted_pos = list(map(float, data[1].split(',')))\n",
    "        origin = list(map(float, data[2].split(',')))\n",
    "\n",
    "        # get luminance\n",
    "        y = list(map(float, data[-1].split(',')))\n",
    "\n",
    "        # prepare new graph\n",
    "        graph = Graph(origin, y)\n",
    "\n",
    "        # default origin node\n",
    "        prev_node = Node(origin, [0, 0, 0], [1, 1, 1])\n",
    "\n",
    "        graph.add_node(prev_node)\n",
    "\n",
    "        del data[0:3]\n",
    "        del data[-1]\n",
    "\n",
    "        for n_i, node in enumerate(data):\n",
    "            node_data = node.split('::')\n",
    "\n",
    "            t = float(node_data[0])\n",
    "            p = list(map(float, node_data[1].split(',')))\n",
    "            n = list(map(float, node_data[2].split(',')))\n",
    "            throughput = list(map(float, node_data[3].split(',')))\n",
    "            valid = bool(node_data[4])\n",
    "\n",
    "            if valid:\n",
    "                node = Node(p, n, throughput)\n",
    "                graph.add_node(node)\n",
    "                graph.add_connection(prev_node, node, t)\n",
    "\n",
    "                prev_node = node\n",
    "        \n",
    "        return sample_pos, graph\n",
    "    \n",
    "    @staticmethod\n",
    "    def fromfile(scene_file, filename, verbose=True):\n",
    "    \n",
    "        graph_dict = DictGraph(scene_file)\n",
    "\n",
    "        with open(filename, 'r') as f:\n",
    "\n",
    "            lines = f.readlines()\n",
    "            n_lines = len(lines)\n",
    "            for idx, line in enumerate(lines):\n",
    "\n",
    "                pos, graph = DictGraph._extract_light_grath(line)\n",
    "                graph_dict.add_graph(pos, graph)\n",
    "\n",
    "                if verbose:\n",
    "                    print(f'Extraction progress {(idx + 1) / n_lines * 100.:.2f}%', end='\\r')\n",
    "\n",
    "        return graph_dict\n",
    "    \n",
    "    # TODO: graph fusion\n",
    "    \n",
    "    def __str__(self):\n",
    "        return f'[n_keys: {len(self._graphs.keys())}, n_graphs: {self.n_graphs}, n_nodes: {self.n_nodes} ' \\\n",
    "            f'(duplicate: {self._n_built_nodes}), n_connections: {self.n_connections} ' \\\n",
    "            f'(built: {self._n_built_connections}) ]'"
   ]
  },
  {
   "cell_type": "code",
   "execution_count": 22,
   "id": "c77705b8-4c37-4b1f-8263-a3b7d902597e",
   "metadata": {
    "tags": []
   },
   "outputs": [
    {
     "name": "stdout",
     "output_type": "stream",
     "text": [
      "Extraction progress 100.00%\r"
     ]
    }
   ],
   "source": [
    "dict_graphs = DictGraph.fromfile(scene_file, gnn_data_file)"
   ]
  },
  {
   "cell_type": "code",
   "execution_count": 23,
   "id": "ec0f5761-4ed6-4045-aafc-29982ab38cf0",
   "metadata": {
    "tags": []
   },
   "outputs": [
    {
     "name": "stdout",
     "output_type": "stream",
     "text": [
      "[n_keys: 16386, n_graphs: 163840, n_nodes: 611727 (duplicate: 0), n_connections: 447887 (built: 0) ]\n"
     ]
    }
   ],
   "source": [
    "print(dict_graphs)"
   ]
  },
  {
   "cell_type": "code",
   "execution_count": null,
   "id": "abd6c527-5b66-4375-ac00-8ccb818e3549",
   "metadata": {
    "tags": []
   },
   "outputs": [
    {
     "name": "stdout",
     "output_type": "stream",
     "text": [
      "Connection build 11.63%\r"
     ]
    }
   ],
   "source": [
    "dict_graphs.build_connections(n_graphs=2, n_nodes_per_graphs=4, n_neighbors=4, verbose=True)"
   ]
  },
  {
   "cell_type": "code",
   "execution_count": 13,
   "id": "bc307a08-dfea-4204-977a-e34c0c0255c8",
   "metadata": {
    "tags": []
   },
   "outputs": [
    {
     "name": "stdout",
     "output_type": "stream",
     "text": [
      "[n_keys: 16386, n_graphs: 163840, n_nodes: 619948 (duplicate: 8221), n_connections: 456353 (built: 8466) ]\n"
     ]
    }
   ],
   "source": [
    "print(dict_graphs)"
   ]
  }
 ],
 "metadata": {
  "kernelspec": {
   "display_name": "mitsuba-venv",
   "language": "python",
   "name": "mitsuba-venv"
  },
  "language_info": {
   "codemirror_mode": {
    "name": "ipython",
    "version": 3
   },
   "file_extension": ".py",
   "mimetype": "text/x-python",
   "name": "python",
   "nbconvert_exporter": "python",
   "pygments_lexer": "ipython3",
   "version": "3.9.0"
  }
 },
 "nbformat": 4,
 "nbformat_minor": 5
}
