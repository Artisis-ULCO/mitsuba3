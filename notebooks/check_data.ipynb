{
 "cells": [
  {
   "cell_type": "code",
   "execution_count": 1,
   "id": "65c5cd96-ca96-4b0e-ae1d-f0df202d493e",
   "metadata": {
    "tags": []
   },
   "outputs": [],
   "source": [
    "import numpy as np\n",
    "import os\n",
    "import matplotlib.pyplot as plt\n",
    "import json\n",
    "import time\n",
    "import msgpack\n",
    "import mignn\n",
    "from mignn.dataset import PathLightDataset\n",
    "from torch_geometric.data import Data\n",
    "import torch\n",
    "from itertools import chain"
   ]
  },
  {
   "cell_type": "code",
   "execution_count": 2,
   "id": "5a61acb6-c544-4f31-b5d8-8627fd68d491",
   "metadata": {
    "tags": []
   },
   "outputs": [],
   "source": [
    "import tqdm\n",
    "from multiprocessing.pool import ThreadPool"
   ]
  },
  {
   "cell_type": "code",
   "execution_count": 3,
   "id": "b683fb3b-00d4-4dea-aca6-338b3b6b8aeb",
   "metadata": {
    "tags": []
   },
   "outputs": [],
   "source": [
    "WIDTH, HEIGHT = 100, 100"
   ]
  },
  {
   "cell_type": "code",
   "execution_count": 4,
   "id": "44bbb178-2753-4d2b-bfdc-ea1e4592ab07",
   "metadata": {
    "tags": []
   },
   "outputs": [],
   "source": [
    "base_folder = \"../build\""
   ]
  },
  {
   "cell_type": "markdown",
   "id": "b9aa46d5-3d91-4a21-abfb-a6a7adeffde0",
   "metadata": {},
   "source": [
    "## Paralleled process"
   ]
  },
  {
   "cell_type": "code",
   "execution_count": 5,
   "id": "2333276c-3356-452e-92df-9caeb5d35837",
   "metadata": {
    "tags": []
   },
   "outputs": [],
   "source": [
    "def load_data_msgpack(filename):\n",
    "    #global done\n",
    "    c_data = {}\n",
    "    with open(filename, 'rb') as f:\n",
    "        data = msgpack.unpackb(f.read(), raw=False)\n",
    "        for k_pixel in data.keys():\n",
    "            h, w = list(map(int, k_pixel.split(',')))\n",
    "            c_data[(h, w)] = data[k_pixel]['y']\n",
    "    #done = done + 1\n",
    "    return c_data\n",
    "\n",
    "def load_and_convert(filename):\n",
    "    #global done\n",
    "    graphs = []\n",
    "    with open(filename, 'rb') as f:\n",
    "        data = msgpack.unpackb(f.read(), raw=False)\n",
    "        \n",
    "        # for each key data, extract graph\n",
    "        for key, k_data in data.items():\n",
    "            \n",
    "            pixel = list(map(int, key.split(',')))\n",
    "            \n",
    "            # nodes data\n",
    "            x_node = torch.tensor(k_data[\"x\"], dtype=torch.float)\n",
    "            x_node_pos = torch.tensor(k_data[\"pos\"], dtype=torch.float)\n",
    "            x_node_primary = torch.tensor(k_data[\"x_primary\"], dtype=torch.bool)\n",
    "            \n",
    "            # edges data\n",
    "            edge_index = torch.tensor(k_data[\"edge_index\"], dtype=torch.long)    \n",
    "            edge_attr = torch.tensor(k_data[\"edge_attr\"], dtype=torch.float)\n",
    "            edge_built = torch.tensor(k_data[\"edge_built\"], dtype=torch.bool)\n",
    "            \n",
    "            # targets\n",
    "            y_targets = torch.tensor(k_data[\"y\"], dtype=torch.float)\n",
    "            \n",
    "            graph_data = Data(x=x_node, \n",
    "                            x_primary=x_node_primary, \n",
    "                            pos=x_node_pos,\n",
    "                            edge_index=edge_index.t().contiguous(), \n",
    "                            edge_attr=edge_attr,\n",
    "                            edge_built=edge_built, \n",
    "                            y=y_targets, \n",
    "                            key=pixel)\n",
    "            graphs.append(graph_data)\n",
    "    \n",
    "    #output_dataset = os.path.join(output_folder, outfile.split('.')[0])\n",
    "    #os.makedirs(output_dataset, exist_ok=True)\n",
    "    return graphs"
   ]
  },
  {
   "cell_type": "code",
   "execution_count": 6,
   "id": "099601ab-ba24-4042-949c-1e8d6a77ce72",
   "metadata": {
    "tags": []
   },
   "outputs": [
    {
     "name": "stdout",
     "output_type": "stream",
     "text": [
      "6.965036392211914\n"
     ]
    }
   ],
   "source": [
    "folder = os.path.join(base_folder, \"output_gnn\")\n",
    "start = time.time()\n",
    "all_graphs = [ load_and_convert(os.path.join(folder, j_f)) for j_f in os.listdir(folder) ]\n",
    "end = time.time()\n",
    "print(end - start)"
   ]
  },
  {
   "cell_type": "code",
   "execution_count": 7,
   "id": "3b33032c-49a5-4324-b1db-7eb3a12a4b7c",
   "metadata": {
    "tags": []
   },
   "outputs": [],
   "source": [
    "flat_all_graphs = list(chain(*all_graphs))\n",
    "y_data = {}\n",
    "for graph in flat_all_graphs:\n",
    "    y_data[tuple(graph.key)] = list(graph.y)"
   ]
  },
  {
   "cell_type": "code",
   "execution_count": 28,
   "id": "5d52971c-4c9a-4777-9555-d3ee8051f677",
   "metadata": {
    "tags": []
   },
   "outputs": [
    {
     "name": "stdout",
     "output_type": "stream",
     "text": [
      "256\n"
     ]
    },
    {
     "name": "stderr",
     "output_type": "stream",
     "text": [
      "100%|███████████████████████████████████████████████████████████████████████████████████████████████████████████████████████████████████████| 256/256 [03:30<00:00,  1.22it/s]"
     ]
    },
    {
     "name": "stdout",
     "output_type": "stream",
     "text": [
      "-1044.6730132102966\n"
     ]
    },
    {
     "name": "stderr",
     "output_type": "stream",
     "text": [
      "\n"
     ]
    }
   ],
   "source": [
    "pool_obj = ThreadPool()\n",
    "\n",
    "start = time.time()\n",
    "folder = os.path.join(base_folder, \"gnn_data_msgpack\")\n",
    "params = [ os.path.join(folder, j_f) for j_f in os.listdir(folder) ]\n",
    "\n",
    "print(len(params))\n",
    "\n",
    "all_graphs = []\n",
    "for result in tqdm.tqdm(pool_obj.imap(load_and_convert, params), total=len(params)):\n",
    "    all_graphs.append(result)\n",
    "print(end - start)"
   ]
  },
  {
   "cell_type": "code",
   "execution_count": 25,
   "id": "636d92d9-aa55-478e-88b6-6607b9ee6633",
   "metadata": {
    "tags": []
   },
   "outputs": [
    {
     "data": {
      "text/plain": [
       "PathLightDataset(262144)"
      ]
     },
     "execution_count": 25,
     "metadata": {},
     "output_type": "execute_result"
    }
   ],
   "source": [
    "flat_all_graphs = list(chain(*all_graphs))\n",
    "PathLightDataset('../build/test_all', flat_all_graphs)"
   ]
  },
  {
   "cell_type": "code",
   "execution_count": 23,
   "id": "eb9c9de1-9494-4b08-b345-16082af1fbc2",
   "metadata": {
    "tags": []
   },
   "outputs": [],
   "source": [
    "done = 1\n",
    "to_load = 1024\n",
    "def load_data(filename):\n",
    "    #global done\n",
    "    c_data = {}\n",
    "    with open(filename, 'r') as f:\n",
    "        data = json.load(f)\n",
    "        for k_pixel in data.keys():\n",
    "            h, w = list(map(int, k_pixel.split(',')))\n",
    "            c_data[(h, w)] = data[k_pixel]['y']\n",
    "    #done = done + 1\n",
    "    #print(f'Files {done} of {to_load}')\n",
    "    return c_data"
   ]
  },
  {
   "cell_type": "code",
   "execution_count": 32,
   "id": "f3d2ecd8-ba69-4cfd-a2b5-796989050995",
   "metadata": {
    "tags": []
   },
   "outputs": [
    {
     "ename": "FileNotFoundError",
     "evalue": "[Errno 2] No such file or directory: 'gnn_data_json'",
     "output_type": "error",
     "traceback": [
      "\u001b[0;31m---------------------------------------------------------------------------\u001b[0m",
      "\u001b[0;31mFileNotFoundError\u001b[0m                         Traceback (most recent call last)",
      "Input \u001b[0;32mIn [32]\u001b[0m, in \u001b[0;36m<cell line: 20>\u001b[0;34m()\u001b[0m\n\u001b[1;32m     16\u001b[0m             y_data[k] \u001b[38;5;241m=\u001b[39m y_d[k]\n\u001b[1;32m     18\u001b[0m     \u001b[38;5;28;01mreturn\u001b[39;00m y_data\n\u001b[0;32m---> 20\u001b[0m \u001b[43mload_data_in_parallel\u001b[49m\u001b[43m(\u001b[49m\u001b[38;5;124;43m\"\u001b[39;49m\u001b[38;5;124;43mgnn_data_json\u001b[39;49m\u001b[38;5;124;43m\"\u001b[39;49m\u001b[43m,\u001b[49m\u001b[43m \u001b[49m\u001b[43mload_data\u001b[49m\u001b[43m)\u001b[49m\n\u001b[1;32m     21\u001b[0m y_data \u001b[38;5;241m=\u001b[39m load_data_in_parallel(\u001b[38;5;124m\"\u001b[39m\u001b[38;5;124mgnn_data\u001b[39m\u001b[38;5;124m\"\u001b[39m, load_data_msgpack)\n",
      "Input \u001b[0;32mIn [32]\u001b[0m, in \u001b[0;36mload_data_in_parallel\u001b[0;34m(folder, load_f)\u001b[0m\n\u001b[1;32m      1\u001b[0m \u001b[38;5;28;01mdef\u001b[39;00m \u001b[38;5;21mload_data_in_parallel\u001b[39m(folder, load_f):\n\u001b[1;32m      2\u001b[0m     pool_obj \u001b[38;5;241m=\u001b[39m ThreadPool()\n\u001b[0;32m----> 4\u001b[0m     params \u001b[38;5;241m=\u001b[39m [ os\u001b[38;5;241m.\u001b[39mpath\u001b[38;5;241m.\u001b[39mjoin(folder, j_f) \u001b[38;5;28;01mfor\u001b[39;00m j_f \u001b[38;5;129;01min\u001b[39;00m \u001b[43mos\u001b[49m\u001b[38;5;241;43m.\u001b[39;49m\u001b[43mlistdir\u001b[49m\u001b[43m(\u001b[49m\u001b[43mfolder\u001b[49m\u001b[43m)\u001b[49m ]\n\u001b[1;32m      6\u001b[0m     \u001b[38;5;28mprint\u001b[39m(\u001b[38;5;28mlen\u001b[39m(params))\n\u001b[1;32m      8\u001b[0m     y_datas \u001b[38;5;241m=\u001b[39m []\n",
      "\u001b[0;31mFileNotFoundError\u001b[0m: [Errno 2] No such file or directory: 'gnn_data_json'"
     ]
    }
   ],
   "source": [
    "def load_data_in_parallel(folder, load_f):\n",
    "    pool_obj = ThreadPool()\n",
    "\n",
    "    params = [ os.path.join(folder, j_f) for j_f in os.listdir(folder) ]\n",
    "    \n",
    "    print(len(params))\n",
    "    \n",
    "    y_datas = []\n",
    "    for result in tqdm.tqdm(pool_obj.imap(load_f, params), total=len(params)):\n",
    "        y_datas.append(result)\n",
    "        \n",
    "    y_data = {}\n",
    "\n",
    "    for y_d in y_datas:\n",
    "        for k in y_d:\n",
    "            y_data[k] = y_d[k]\n",
    "            \n",
    "    return y_data\n",
    "\n",
    "load_data_in_parallel(\"gnn_data\", load_data)\n",
    "y_data = load_data_in_parallel(\"gnn_data_msgpack\", load_data_msgpack)"
   ]
  },
  {
   "cell_type": "markdown",
   "id": "ac672431-de5d-4801-908e-948b097db15d",
   "metadata": {},
   "source": [
    "## Unparalleled process"
   ]
  },
  {
   "cell_type": "code",
   "execution_count": null,
   "id": "5f500fc1-5318-4d1a-bb05-cf29407e758b",
   "metadata": {
    "tags": []
   },
   "outputs": [
    {
     "name": "stdout",
     "output_type": "stream",
     "text": [
      "237.93677043914795\n",
      "\n"
     ]
    }
   ],
   "source": [
    "def load_data_no_parallel(folder):\n",
    "    json_files = os.listdir(folder)\n",
    "\n",
    "    y_data = {}\n",
    "    for j_i, jfile in enumerate(sorted(json_files)):\n",
    "        jfile_path = os.path.join(folder, jfile)\n",
    "        with open(jfile_path, 'r') as f:\n",
    "            data = json.load(f)\n",
    "            for k_pixel in data.keys():\n",
    "                h, w = list(map(int, k_pixel.split(',')))\n",
    "                y_data[(h, w)] = data[k_pixel]['y']\n",
    "        #print(f'Read file n°{j_i+1} of {len(json_files)}', end='\\r')\n",
    "    return y_data\n",
    "\n",
    "def load_data_no_parallel_msgpack(folder):\n",
    "    json_files = os.listdir(folder)\n",
    "\n",
    "    y_data = {}\n",
    "    for j_i, jfile in enumerate(sorted(json_files)):\n",
    "        jfile_path = os.path.join(folder, jfile)\n",
    "        with open(jfile_path, 'rb') as f:\n",
    "            data = msgpack.unpackb(f.read(), raw=False)\n",
    "            for k_pixel in data.keys():\n",
    "                h, w = list(map(int, k_pixel.split(',')))\n",
    "                y_data[(h, w)] = data[k_pixel]['y']\n",
    "        #print(f'Read file n°{j_i+1} of {len(json_files)}', end='\\r')\n",
    "    return y_data\n",
    "\n",
    "start = time.time()\n",
    "y_data = load_data_no_parallel(\"gnn_data\")\n",
    "end = time.time()\n",
    "print(end - start)\n",
    "print()\n",
    "start = time.time()\n",
    "y_data = load_data_no_parallel_msgpack(\"gnn_data_msgpack\")\n",
    "end = time.time()\n",
    "print(end - start)\n",
    "#%timeit load_data_no_parallel(\"gnn_data\")\n",
    "#%timeit load_data_no_parallel_msgpack(\"gnn_data_msgpack\")"
   ]
  },
  {
   "cell_type": "markdown",
   "id": "7cfc27ae-53ca-477e-a49c-18f63e14cd49",
   "metadata": {},
   "source": [
    "## Display obtained image"
   ]
  },
  {
   "cell_type": "code",
   "execution_count": 8,
   "id": "244a7dfd-a143-4c15-8e9f-3380992f429b",
   "metadata": {
    "tags": []
   },
   "outputs": [],
   "source": [
    "image_buffer = np.empty((WIDTH, HEIGHT, 3))"
   ]
  },
  {
   "cell_type": "code",
   "execution_count": 9,
   "id": "9878c364-5866-4497-8b7d-463ea0989c48",
   "metadata": {
    "tags": []
   },
   "outputs": [],
   "source": [
    "for key in y_data.keys():\n",
    "    h, w = key\n",
    "    image_buffer[h, w] = y_data[key]"
   ]
  },
  {
   "cell_type": "code",
   "execution_count": 10,
   "id": "4441eed1-685e-4971-90a2-84aa0ade67a4",
   "metadata": {
    "tags": []
   },
   "outputs": [
    {
     "name": "stderr",
     "output_type": "stream",
     "text": [
      "Clipping input data to the valid range for imshow with RGB data ([0..1] for floats or [0..255] for integers).\n"
     ]
    },
    {
     "data": {
      "text/plain": [
       "<matplotlib.image.AxesImage at 0x7fd1818601c0>"
      ]
     },
     "execution_count": 10,
     "metadata": {},
     "output_type": "execute_result"
    },
    {
     "data": {
      "image/png": "[encoded data removed]",
      "text/plain": [
       "<Figure size 640x480 with 1 Axes>"
      ]
     },
     "metadata": {},
     "output_type": "display_data"
    }
   ],
   "source": [
    "plt.imshow(image_buffer)"
   ]
  }
 ],
 "metadata": {
  "kernelspec": {
   "display_name": "mitsuba-venv",
   "language": "python",
   "name": "mitsuba-venv"
  },
  "language_info": {
   "codemirror_mode": {
    "name": "ipython",
    "version": 3
   },
   "file_extension": ".py",
   "mimetype": "text/x-python",
   "name": "python",
   "nbconvert_exporter": "python",
   "pygments_lexer": "ipython3",
   "version": "3.9.0"
  }
 },
 "nbformat": 4,
 "nbformat_minor": 5
}
